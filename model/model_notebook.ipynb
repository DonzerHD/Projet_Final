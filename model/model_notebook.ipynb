{
 "cells": [
  {
   "cell_type": "code",
   "execution_count": 39,
   "metadata": {},
   "outputs": [
    {
     "name": "stdout",
     "output_type": "stream",
     "text": [
      "Connexion réussie avec pyodbc!\n"
     ]
    }
   ],
   "source": [
    "import pyodbc\n",
    "import pandas as pd\n",
    "from sqlalchemy import create_engine\n",
    "from dotenv import load_dotenv\n",
    "import os\n",
    "\n",
    "# Charger les variables d'environnement\n",
    "load_dotenv()\n",
    "\n",
    "# Récupérer les variables d'environnement\n",
    "server = os.getenv(\"DB_SERVER\")\n",
    "database = os.getenv(\"DB_NAME\")\n",
    "username = os.getenv(\"DB_USER\")\n",
    "password = os.getenv(\"DB_PASSWORD\")\n",
    "driver = os.getenv(\"DB_DRIVER\").replace(\"{\", \"\").replace(\"}\", \"\")\n",
    "\n",
    "# Chaîne de connexion\n",
    "connection_string = f\"DRIVER={{{driver}}};SERVER={server};DATABASE={database};UID={username};PWD={password}\"\n",
    "DATABASE_URL = f\"mssql+pyodbc://{username}:{password}@{server}/{database}?driver={driver.replace(' ', '+')}\"\n",
    "\n",
    "# Tester la connexion avec pyodbc\n",
    "try:\n",
    "    conn = pyodbc.connect(connection_string)\n",
    "    print(\"Connexion réussie avec pyodbc!\")\n",
    "    conn.close()\n",
    "except pyodbc.Error as ex:\n",
    "    print(\"Erreur lors de la connexion avec pyodbc:\", ex)\n",
    "\n",
    "# Créer le moteur SQLAlchemy\n",
    "engine = create_engine(DATABASE_URL)\n"
   ]
  },
  {
   "cell_type": "code",
   "execution_count": 40,
   "metadata": {},
   "outputs": [
    {
     "name": "stderr",
     "output_type": "stream",
     "text": [
      "INFO:sqlalchemy.engine.Engine:SELECT CAST(SERVERPROPERTY('ProductVersion') AS VARCHAR)\n",
      "INFO:sqlalchemy.engine.Engine:[raw sql] ()\n",
      "INFO:sqlalchemy.engine.Engine:SELECT schema_name()\n",
      "INFO:sqlalchemy.engine.Engine:[generated in 0.00074s] ()\n",
      "INFO:sqlalchemy.engine.Engine:SELECT CAST('test max support' AS NVARCHAR(max))\n",
      "INFO:sqlalchemy.engine.Engine:[generated in 0.00081s] ()\n",
      "INFO:sqlalchemy.engine.Engine:SELECT 1 FROM fn_listextendedproperty(default, default, default, default, default, default, default)\n",
      "INFO:sqlalchemy.engine.Engine:[generated in 0.00069s] ()\n",
      "INFO:sqlalchemy.engine.Engine:BEGIN (implicit)\n",
      "INFO:sqlalchemy.engine.Engine:SELECT [INFORMATION_SCHEMA].[TABLES].[TABLE_NAME] \n",
      "FROM [INFORMATION_SCHEMA].[TABLES] \n",
      "WHERE ([INFORMATION_SCHEMA].[TABLES].[TABLE_TYPE] = CAST(? AS NVARCHAR(max)) OR [INFORMATION_SCHEMA].[TABLES].[TABLE_TYPE] = CAST(? AS NVARCHAR(max))) AND [INFORMATION_SCHEMA].[TABLES].[TABLE_NAME] = CAST(? AS NVARCHAR(max)) AND [INFORMATION_SCHEMA].[TABLES].[TABLE_SCHEMA] = CAST(? AS NVARCHAR(max))\n",
      "INFO:sqlalchemy.engine.Engine:[generated in 0.00102s] ('BASE TABLE', 'VIEW', 'SELECT * FROM appmovieschema.Movie_Table', 'dbo')\n",
      "INFO:sqlalchemy.engine.Engine:SELECT * FROM appmovieschema.Movie_Table\n",
      "INFO:sqlalchemy.engine.Engine:[raw sql] ()\n",
      "INFO:sqlalchemy.engine.Engine:ROLLBACK\n",
      "INFO:sqlalchemy.engine.Engine:BEGIN (implicit)\n",
      "INFO:sqlalchemy.engine.Engine:SELECT [INFORMATION_SCHEMA].[TABLES].[TABLE_NAME] \n",
      "FROM [INFORMATION_SCHEMA].[TABLES] \n",
      "WHERE ([INFORMATION_SCHEMA].[TABLES].[TABLE_TYPE] = CAST(? AS NVARCHAR(max)) OR [INFORMATION_SCHEMA].[TABLES].[TABLE_TYPE] = CAST(? AS NVARCHAR(max))) AND [INFORMATION_SCHEMA].[TABLES].[TABLE_NAME] = CAST(? AS NVARCHAR(max)) AND [INFORMATION_SCHEMA].[TABLES].[TABLE_SCHEMA] = CAST(? AS NVARCHAR(max))\n",
      "INFO:sqlalchemy.engine.Engine:[cached since 0.09358s ago] ('BASE TABLE', 'VIEW', 'SELECT * FROM appmovieschema.Genre_Table', 'dbo')\n",
      "INFO:sqlalchemy.engine.Engine:SELECT * FROM appmovieschema.Genre_Table\n",
      "INFO:sqlalchemy.engine.Engine:[raw sql] ()\n",
      "INFO:sqlalchemy.engine.Engine:ROLLBACK\n",
      "INFO:sqlalchemy.engine.Engine:BEGIN (implicit)\n",
      "INFO:sqlalchemy.engine.Engine:SELECT [INFORMATION_SCHEMA].[TABLES].[TABLE_NAME] \n",
      "FROM [INFORMATION_SCHEMA].[TABLES] \n",
      "WHERE ([INFORMATION_SCHEMA].[TABLES].[TABLE_TYPE] = CAST(? AS NVARCHAR(max)) OR [INFORMATION_SCHEMA].[TABLES].[TABLE_TYPE] = CAST(? AS NVARCHAR(max))) AND [INFORMATION_SCHEMA].[TABLES].[TABLE_NAME] = CAST(? AS NVARCHAR(max)) AND [INFORMATION_SCHEMA].[TABLES].[TABLE_SCHEMA] = CAST(? AS NVARCHAR(max))\n",
      "INFO:sqlalchemy.engine.Engine:[cached since 0.1677s ago] ('BASE TABLE', 'VIEW', 'SELECT * FROM appmovieschema.MovieGenre_Table', 'dbo')\n",
      "INFO:sqlalchemy.engine.Engine:SELECT * FROM appmovieschema.MovieGenre_Table\n",
      "INFO:sqlalchemy.engine.Engine:[raw sql] ()\n",
      "INFO:sqlalchemy.engine.Engine:ROLLBACK\n"
     ]
    },
    {
     "name": "stdout",
     "output_type": "stream",
     "text": [
      "Movies Table:\n",
      "   movie_id                         title release_date  \\\n",
      "0         1  Aquaman and the Lost Kingdom   2023-12-20   \n",
      "1         2                         Wonka   2023-12-06   \n",
      "2         3                          Wish   2023-11-13   \n",
      "3         4                     Migration   2023-12-06   \n",
      "4         5                   The Marvels   2023-11-08   \n",
      "\n",
      "                                         poster_link  \n",
      "0  https://image.tmdb.org/t/p/original/7lTnXOy0iN...  \n",
      "1  https://image.tmdb.org/t/p/original/qhb1qOilap...  \n",
      "2  https://image.tmdb.org/t/p/original/AcoVfiv1rr...  \n",
      "3  https://image.tmdb.org/t/p/original/ldfCF9RhR4...  \n",
      "4  https://image.tmdb.org/t/p/original/9GBhzXMFjg...  \n",
      "\n",
      "Genres Table:\n",
      "   genre_id       genre_name\n",
      "0         1           Action\n",
      "1         2      Documentary\n",
      "2         3  Science Fiction\n",
      "3         4          Mystery\n",
      "4         5         Thriller\n",
      "\n",
      "Movie Genres Table:\n",
      "   movie_id  genre_id\n",
      "0         1         1\n",
      "1         1         8\n",
      "2         1         9\n",
      "3         2        15\n",
      "4         2        13\n"
     ]
    }
   ],
   "source": [
    "# Charger les tables nécessaires\n",
    "try:\n",
    "    movies = pd.read_sql(\"SELECT * FROM appmovieschema.Movie_Table\", engine)\n",
    "    genres = pd.read_sql(\"SELECT * FROM appmovieschema.Genre_Table\", engine)\n",
    "    movie_genres = pd.read_sql(\"SELECT * FROM appmovieschema.MovieGenre_Table\", engine)\n",
    "\n",
    "    # Afficher un aperçu des données\n",
    "    print(\"Movies Table:\")\n",
    "    print(movies.head())\n",
    "    \n",
    "    print(\"\\nGenres Table:\")\n",
    "    print(genres.head())\n",
    "    \n",
    "    print(\"\\nMovie Genres Table:\")\n",
    "    print(movie_genres.head())\n",
    "except Exception as e:\n",
    "    print(f\"Erreur lors du chargement des données : {e}\")\n"
   ]
  },
  {
   "cell_type": "code",
   "execution_count": 41,
   "metadata": {},
   "outputs": [],
   "source": [
    "from sklearn.feature_extraction.text import TfidfVectorizer\n",
    "from sklearn.metrics.pairwise import linear_kernel\n",
    "\n",
    "# Créer une description des films à partir des genres\n",
    "movies = movies.merge(movie_genres.groupby('movie_id')['genre_id'].apply(lambda x: ' '.join(map(str, x))).reset_index(), on='movie_id', how='left')\n",
    "movies.rename(columns={'genre_id': 'genres'}, inplace=True)\n",
    "\n",
    "# Remplacer les NaN par des chaînes vides\n",
    "movies['genres'] = movies['genres'].fillna('')\n",
    "\n",
    "# Utiliser TfidfVectorizer pour transformer les genres en vecteurs\n",
    "tfidf = TfidfVectorizer(stop_words='english')\n",
    "tfidf_matrix = tfidf.fit_transform(movies['genres'])\n",
    "\n",
    "# Calculer la similarité cosinus entre les films\n",
    "cosine_sim = linear_kernel(tfidf_matrix, tfidf_matrix)\n"
   ]
  },
  {
   "cell_type": "code",
   "execution_count": 42,
   "metadata": {},
   "outputs": [
    {
     "name": "stdout",
     "output_type": "stream",
     "text": [
      "Recommended Movies for ['The Holdovers', 'The Godfather']:\n",
      "                                                title     genres\n",
      "5                                       Sixty Minutes       1 14\n",
      "7                                             Radical         14\n",
      "9                                                Lift  1 15 7 14\n",
      "12                                      The Beekeeper     1 5 14\n",
      "20                                    Badland Hunters     1 3 14\n",
      "31  The Hunger Games: The Ballad of Songbirds & Sn...     14 3 1\n",
      "44             Rebel Moon - Part One: A Child of Fire     3 14 1\n",
      "52                                   Sound of Freedom       1 14\n",
      "57                    El padrino: The Latin Godfather     1 7 14\n",
      "59                                               Acid       14 9\n"
     ]
    }
   ],
   "source": [
    "# Fonction de recommandation basée sur la similarité des genres\n",
    "def get_recommendations(favorite_movie_titles, cosine_sim=cosine_sim, top_n=10):\n",
    "    # Obtenir les indices des films correspondant aux titres\n",
    "    favorite_indices = [movies[movies['title'] == title].index[0] for title in favorite_movie_titles]\n",
    "    \n",
    "    # Obtenir les scores de similarité pour ces films avec tous les autres films\n",
    "    sim_scores = cosine_sim[favorite_indices].mean(axis=0)\n",
    "    \n",
    "    # Trier les films en fonction des scores de similarité\n",
    "    sim_scores = list(enumerate(sim_scores))\n",
    "    sim_scores = sorted(sim_scores, key=lambda x: x[1], reverse=True)\n",
    "    \n",
    "    # Obtenir les indices des films les plus similaires\n",
    "    movie_indices = [i[0] for i in sim_scores if i[0] not in favorite_indices][:top_n]\n",
    "    \n",
    "    # Retourner les films les plus similaires\n",
    "    return movies.iloc[movie_indices]\n",
    "\n",
    "# Exemple d'utilisation avec des titres de films préférés fictifs\n",
    "favorite_movie_titles = [\"The Holdovers\", \"The Godfather\"]  # Remplacez par des titres existants dans votre base de données\n",
    "recommended_movies = get_recommendations(favorite_movie_titles)\n",
    "print(f\"Recommended Movies for {favorite_movie_titles}:\")\n",
    "print(recommended_movies[['title', 'genres']])\n"
   ]
  },
  {
   "cell_type": "code",
   "execution_count": 43,
   "metadata": {},
   "outputs": [
    {
     "name": "stdout",
     "output_type": "stream",
     "text": [
      "Genres des films préférés :\n",
      "             title genres\n",
      "167  The Godfather   14 7\n",
      "199  The Holdovers  15 14\n",
      "Genres des films recommandés :\n",
      "                                                title     genres\n",
      "5                                       Sixty Minutes       1 14\n",
      "7                                             Radical         14\n",
      "9                                                Lift  1 15 7 14\n",
      "12                                      The Beekeeper     1 5 14\n",
      "20                                    Badland Hunters     1 3 14\n",
      "31  The Hunger Games: The Ballad of Songbirds & Sn...     14 3 1\n",
      "44             Rebel Moon - Part One: A Child of Fire     3 14 1\n",
      "52                                   Sound of Freedom       1 14\n",
      "57                    El padrino: The Latin Godfather     1 7 14\n",
      "59                                               Acid       14 9\n"
     ]
    }
   ],
   "source": [
    "# Afficher les genres des films préférés\n",
    "print(\"Genres des films préférés :\")\n",
    "print(movies[movies['title'].isin(favorite_movie_titles)][['title', 'genres']])\n",
    "\n",
    "# Afficher les genres des films recommandés\n",
    "print(\"Genres des films recommandés :\")\n",
    "print(recommended_movies[['title', 'genres']])\n"
   ]
  },
  {
   "cell_type": "code",
   "execution_count": 44,
   "metadata": {},
   "outputs": [
    {
     "name": "stdout",
     "output_type": "stream",
     "text": [
      "Modèle sauvegardé avec succès!\n"
     ]
    }
   ],
   "source": [
    "import pickle\n",
    "\n",
    "# Sauvegarder le modèle et les données nécessaires dans un fichier .pkl\n",
    "model_data = {\n",
    "    \"movies\": movies,\n",
    "    \"cosine_sim\": cosine_sim\n",
    "}\n",
    "\n",
    "with open(\"movie_recommendation_model.pkl\", \"wb\") as f:\n",
    "    pickle.dump(model_data, f)\n",
    "\n",
    "print(\"Modèle sauvegardé avec succès!\")\n"
   ]
  }
 ],
 "metadata": {
  "kernelspec": {
   "display_name": "data_analyst",
   "language": "python",
   "name": "python3"
  },
  "language_info": {
   "codemirror_mode": {
    "name": "ipython",
    "version": 3
   },
   "file_extension": ".py",
   "mimetype": "text/x-python",
   "name": "python",
   "nbconvert_exporter": "python",
   "pygments_lexer": "ipython3",
   "version": "3.10.14"
  }
 },
 "nbformat": 4,
 "nbformat_minor": 2
}
