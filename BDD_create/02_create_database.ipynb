{
 "cells": [
  {
   "cell_type": "code",
   "execution_count": 7,
   "metadata": {},
   "outputs": [
    {
     "name": "stdout",
     "output_type": "stream",
     "text": [
      "sqldatabase-lemay.database.windows.net\n"
     ]
    }
   ],
   "source": [
    "import pyodbc\n",
    "from dotenv import load_dotenv\n",
    "import os\n",
    "\n",
    "# Charger les variables d'environnement\n",
    "load_dotenv()  # Assurez-vous que le chemin vers .env est correct si nécessaire\n",
    "\n",
    "# Utiliser les variables d'environnement\n",
    "server = os.getenv('DB_SERVER')\n",
    "database = os.getenv('DB_NAME')\n",
    "username = os.getenv('DB_USER')\n",
    "password = os.getenv('DB_PASSWORD')\n",
    "driver = os.getenv('DB_DRIVER')\n",
    "\n",
    "print(server)"
   ]
  },
  {
   "cell_type": "code",
   "execution_count": 8,
   "metadata": {},
   "outputs": [],
   "source": [
    "# Définir la chaîne de connexion\n",
    "conn_str = (\n",
    "    f\"DRIVER={driver};\"\n",
    "    f\"SERVER={server};\"\n",
    "    f\"DATABASE={database};\"\n",
    "    f\"UID={username};\"\n",
    "    f\"PWD={password};\"\n",
    "    f\"Encrypt=yes;\"  # Nécessaire pour Azure\n",
    "    f\"TrustServerCertificate=no;\"  # Nécessaire pour Azure\n",
    "    f\"Connection Timeout=30;\"\n",
    ")\n"
   ]
  },
  {
   "cell_type": "code",
   "execution_count": 9,
   "metadata": {},
   "outputs": [
    {
     "name": "stdout",
     "output_type": "stream",
     "text": [
      "Connexion réussie.\n",
      "Les tables ont été créées avec succès dans le schéma appmovieschema\n"
     ]
    }
   ],
   "source": [
    "# Nom du schéma\n",
    "schema_name = 'appmovieschema'  # Remplacez par le nom de votre schéma\n",
    "\n",
    "# Établir la connexion\n",
    "try:\n",
    "    with pyodbc.connect(conn_str) as conn:\n",
    "        print(\"Connexion réussie.\")\n",
    "        cursor = conn.cursor()\n",
    "\n",
    "        # Créer les tables selon le schéma fourni\n",
    "        cursor.execute(f\"IF NOT EXISTS (SELECT * FROM sys.schemas WHERE name = N'{schema_name}') EXEC('CREATE SCHEMA {schema_name}')\")\n",
    "        cursor.execute(f'''\n",
    "        CREATE TABLE {schema_name}.User_Table (\n",
    "            user_id INT PRIMARY KEY,\n",
    "            pseudo NVARCHAR(255),\n",
    "            email NVARCHAR(255),\n",
    "            password NVARCHAR(255)\n",
    "        )\n",
    "        ''')\n",
    "        cursor.execute(f'''\n",
    "        CREATE TABLE {schema_name}.Movie_Table (\n",
    "            movie_id INT PRIMARY KEY,\n",
    "            title NVARCHAR(255),\n",
    "            release_date DATE,\n",
    "            poster_link NVARCHAR(255)\n",
    "        )\n",
    "        ''')\n",
    "        cursor.execute(f'''\n",
    "        CREATE TABLE {schema_name}.Genre_Table (\n",
    "            genre_id INT PRIMARY KEY,\n",
    "            genre_name NVARCHAR(255)\n",
    "        )\n",
    "        ''')\n",
    "        cursor.execute(f'''\n",
    "        CREATE TABLE {schema_name}.UserMovieList_Table (\n",
    "            user_id INT,\n",
    "            movie_id INT,\n",
    "            FOREIGN KEY (user_id) REFERENCES {schema_name}.User_Table(user_id),\n",
    "            FOREIGN KEY (movie_id) REFERENCES {schema_name}.Movie_Table(movie_id)\n",
    "        )\n",
    "        ''')\n",
    "        cursor.execute(f'''\n",
    "        CREATE TABLE {schema_name}.MovieGenre_Table (\n",
    "            movie_id INT,\n",
    "            genre_id INT,\n",
    "            FOREIGN KEY (movie_id) REFERENCES {schema_name}.Movie_Table(movie_id),\n",
    "            FOREIGN KEY (genre_id) REFERENCES {schema_name}.Genre_Table(genre_id)\n",
    "        )\n",
    "        ''')\n",
    "\n",
    "        # Valider la création\n",
    "        conn.commit()\n",
    "        print(\"Les tables ont été créées avec succès dans le schéma\", schema_name)\n",
    "\n",
    "except pyodbc.Error as e:\n",
    "    print(\"Erreur lors de la connexion à la base de données Azure SQL:\", e)"
   ]
  }
 ],
 "metadata": {
  "kernelspec": {
   "display_name": "machine_learning",
   "language": "python",
   "name": "python3"
  },
  "language_info": {
   "codemirror_mode": {
    "name": "ipython",
    "version": 3
   },
   "file_extension": ".py",
   "mimetype": "text/x-python",
   "name": "python",
   "nbconvert_exporter": "python",
   "pygments_lexer": "ipython3",
   "version": "3.11.7"
  }
 },
 "nbformat": 4,
 "nbformat_minor": 2
}
